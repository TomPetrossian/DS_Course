{
 "cells": [],
 "metadata": {
  "kernelspec": {
   "display_name": "Python 3",
   "language": "python",
   "name": "python3"
  },
  "language_info": {
   "codemirror_mode": {
    "name": "ipython",
    "version": 3
   },
   "file_extension": ".py",
   "mimetype": "text/x-python",
   "name": "python",
   "nbconvert_exporter": "python",
   "pygments_lexer": "ipython3",
   "version": "3.8.6"
  },
  "pycharm": {
   "stem_cell": {
    "cell_type": "raw",
    "source": [
     "import sys\n",
     "assert sys.version_info >= (3, 5)\n",
     "import sklearn\n",
     "assert sklearn.__version__ >= \"0.20\"\n",
     "import os\n",
     "import numpy as np\n",
     "from sklearn.datasets import fetch_openml\n",
     "from sklearn.model_selection import GridSearchCV\n",
     "from sklearn.neighbors import KNeighborsClassifier\n",
     "from sklearn.metrics import accuracy_score\n",
     "\n",
     "mnist = fetch_openml(\"mnist_784\", version=1)\n",
     "X, y = mnist[\"data\"], mnist[\"target\"]\n",
     "X_train, X_test, y_train, y_test = X[:50000], X[55000:65000], y[:50000], y[55000:65000]\n",
     "\n",
     "param_grid = [{'weights': [\"uniform\", \"distance\"], 'n_neighbors': [3, 4, 5]}]\n",
     "\n",
     "knn_clf = KNeighborsClassifier()\n",
     "grid_search = GridSearchCV(knn_clf, param_grid, cv=5, verbose=3)\n",
     "grid_search.fit(X_train, y_train)\n",
     "grid_search.best_score_\n",
     "\n",
     "y_pred = grid_search.predict(X_test)\n",
     "accuracy_score(y_test, y_pred)\n"
    ],
    "metadata": {
     "collapsed": false
    }
   }
  }
 },
 "nbformat": 4,
 "nbformat_minor": 4
}